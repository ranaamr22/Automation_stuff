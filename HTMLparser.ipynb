{
  "nbformat": 4,
  "nbformat_minor": 0,
  "metadata": {
    "colab": {
      "provenance": []
    },
    "kernelspec": {
      "name": "python3",
      "display_name": "Python 3"
    },
    "language_info": {
      "name": "python"
    }
  },
  "cells": [
    {
      "cell_type": "code",
      "execution_count": null,
      "metadata": {
        "id": "dUHMF_cnDCZz"
      },
      "outputs": [],
      "source": [
        "from bs4 import BeautifulSoup\n",
        "\n",
        "xml_file_path = 'VCORE_VALEO_STD_VTR.html'\n",
        "\n",
        "with open(xml_file_path, 'r', encoding='utf-8') as file:\n",
        "    xml_content = file.read()\n",
        "\n",
        "soup = BeautifulSoup(xml_content, \"html.parser\")\n",
        "print(soup.prettify())"
      ]
    },
    {
      "cell_type": "code",
      "source": [
        "import pandas as pd\n",
        "\n",
        "blocks = soup.find_all('div', class_='Indentation')\n",
        "resulted_block = []\n",
        "\n",
        "for block in blocks:\n",
        "    feature_tag = block.find('td', text='Feature: ')\n",
        "    requirements_tag = block.find('td', text='Tested requirements: ')\n",
        "    table = block.find('table', class_='ResultTable')\n",
        "\n",
        "    if feature_tag and requirements_tag and table:\n",
        "        feature = feature_tag.find_next('td').text.strip()\n",
        "        requirements = requirements_tag.find_next('td').text.strip()\n",
        "\n",
        "        data = []\n",
        "        for row in table.find_all('tr')[1:]:\n",
        "            cells = row.find_all('td')\n",
        "            row_data = [requirements, feature] + [cell.text.strip() for cell in cells]\n",
        "            data.append(row_data)\n",
        "\n",
        "        df = pd.DataFrame(data)\n",
        "        filtered_df = df[df.iloc[:, 3].str.contains('step', case=False, na=False)]\n",
        "        filtered_df = filtered_df.drop(filtered_df.columns[2], axis=1).iloc[:, :5]\n",
        "        resulted_block.append(filtered_df)\n",
        "\n",
        "# Concatenate all DataFrames into a single DataFrame\n",
        "result_df = pd.concat(resulted_block, ignore_index=True)\n",
        "\n",
        "# Display the DataFrame\n",
        "print(result_df)\n",
        "\n",
        "# Save the DataFrame to an Excel file\n",
        "result_df.to_excel('htmlParser.xlsx', index=False)"
      ],
      "metadata": {
        "id": "Exjd5iTkDfxW"
      },
      "execution_count": null,
      "outputs": []
    },
    {
      "cell_type": "code",
      "source": [
        "df = pd.read_excel('htmlParser.xlsx')\n",
        "# Save the DataFrame to a CSV file\n",
        "df.to_csv('htmlParser.csv', index=False)\n",
        "#The end"
      ],
      "metadata": {
        "id": "To6w6qtwEE1D"
      },
      "execution_count": null,
      "outputs": []
    }
  ]
}